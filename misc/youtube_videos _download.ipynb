{
 "cells": [
  {
   "cell_type": "code",
   "execution_count": 47,
   "id": "aca8a7fd",
   "metadata": {},
   "outputs": [],
   "source": [
    "import pytube"
   ]
  },
  {
   "cell_type": "code",
   "execution_count": 48,
   "id": "40b581af",
   "metadata": {},
   "outputs": [],
   "source": [
    "def my_function(url):\n",
    "    link = url\n",
    "    yt = pytube.YouTube(link)\n",
    "    stream = yt.streams.get_highest_resolution()\n",
    "    stream.download('/Users/deepanjalgupta/Desktop/Youtube')"
   ]
  },
  {
   "cell_type": "code",
   "execution_count": 49,
   "id": "4a1e9ace",
   "metadata": {},
   "outputs": [],
   "source": [
    "lister = ['https://www.youtube.com/watch?v=EH6vE97qIP4</td>','https://www.youtube.com/watch?v=5auv_xrvoJk</td>','https://www.youtube.com/watch?v=0UvVOMZqpEA</td>','https://www.youtube.com/watch?v=w7HDA8gUbpQ</td>','https://www.youtube.com/watch?v=zGDTt9Q3vyM</td>','https://www.youtube.com/watch?v=JPkgJwJHYSc</td>','https://www.youtube.com/watch?v=GLVrOlHLJ1U</td>','https://www.youtube.com/watch?v=sMnBl0g3Ev4</td>','https://www.youtube.com/watch?v=vPJ8oQ99r9c</td>','https://www.youtube.com/watch?v=l0vD_FBWk0g</td>','https://www.youtube.com/watch?v=_eGNSuTBc60</td>','https://www.youtube.com/watch?v=ObGYNQLG3us</td>','https://www.youtube.com/watch?v=ojcOUtUwIe4</td>','https://www.youtube.com/watch?v=_Ycy0Dy-B1c</td>','https://www.youtube.com/watch?v=lPD9fx8fK1k</td>','https://www.youtube.com/watch?v=uNqMBBbb6UI</td>','https://www.youtube.com/watch?v=KHBi3n0hUSU</td>','https://www.youtube.com/watch?v=iWpQpPbo7rM</td>','https://www.youtube.com/watch?v=7EXcHqLg7BI</td>','https://www.youtube.com/watch?v=-cZPoqnRZq4</td>','https://www.youtube.com/watch?v=DsSzQfejwMk</td>','https://www.youtube.com/watch?v=W06Le8fw0vU</td>','https://www.youtube.com/watch?v=CJCKTixMb70</td>']            "
   ]
  },
  {
   "cell_type": "code",
   "execution_count": 50,
   "id": "c0901bfb",
   "metadata": {},
   "outputs": [
    {
     "name": "stdout",
     "output_type": "stream",
     "text": [
      "https://www.youtube.com/watch?v=EH6vE97qIP4</td>\n",
      "https://www.youtube.com/watch?v=5auv_xrvoJk</td>\n",
      "https://www.youtube.com/watch?v=0UvVOMZqpEA</td>\n",
      "https://www.youtube.com/watch?v=w7HDA8gUbpQ</td>\n",
      "https://www.youtube.com/watch?v=zGDTt9Q3vyM</td>\n",
      "https://www.youtube.com/watch?v=JPkgJwJHYSc</td>\n",
      "https://www.youtube.com/watch?v=GLVrOlHLJ1U</td>\n",
      "https://www.youtube.com/watch?v=sMnBl0g3Ev4</td>\n",
      "https://www.youtube.com/watch?v=vPJ8oQ99r9c</td>\n",
      "https://www.youtube.com/watch?v=l0vD_FBWk0g</td>\n",
      "https://www.youtube.com/watch?v=_eGNSuTBc60</td>\n",
      "https://www.youtube.com/watch?v=ObGYNQLG3us</td>\n",
      "https://www.youtube.com/watch?v=ojcOUtUwIe4</td>\n",
      "https://www.youtube.com/watch?v=_Ycy0Dy-B1c</td>\n",
      "https://www.youtube.com/watch?v=lPD9fx8fK1k</td>\n",
      "https://www.youtube.com/watch?v=uNqMBBbb6UI</td>\n",
      "https://www.youtube.com/watch?v=KHBi3n0hUSU</td>\n",
      "https://www.youtube.com/watch?v=iWpQpPbo7rM</td>\n",
      "https://www.youtube.com/watch?v=7EXcHqLg7BI</td>\n",
      "https://www.youtube.com/watch?v=-cZPoqnRZq4</td>\n",
      "https://www.youtube.com/watch?v=DsSzQfejwMk</td>\n",
      "https://www.youtube.com/watch?v=W06Le8fw0vU</td>\n",
      "https://www.youtube.com/watch?v=CJCKTixMb70</td>\n"
     ]
    }
   ],
   "source": [
    "for i in lister:\n",
    "    print(i)\n",
    "    my_function(i)"
   ]
  },
  {
   "cell_type": "code",
   "execution_count": null,
   "id": "61f1e38b",
   "metadata": {},
   "outputs": [],
   "source": []
  }
 ],
 "metadata": {
  "kernelspec": {
   "display_name": "Python 3",
   "language": "python",
   "name": "python3"
  },
  "language_info": {
   "codemirror_mode": {
    "name": "ipython",
    "version": 3
   },
   "file_extension": ".py",
   "mimetype": "text/x-python",
   "name": "python",
   "nbconvert_exporter": "python",
   "pygments_lexer": "ipython3",
   "version": "3.8.8"
  }
 },
 "nbformat": 4,
 "nbformat_minor": 5
}
