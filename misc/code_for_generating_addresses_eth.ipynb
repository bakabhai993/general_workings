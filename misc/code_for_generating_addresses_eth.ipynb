{
 "cells": [
  {
   "cell_type": "code",
   "execution_count": 1,
   "id": "cc111dc7",
   "metadata": {},
   "outputs": [],
   "source": [
    "#use the following lines in the command line if you done have them installed already.\n",
    "#pip install ethereum\n",
    "#pip install os\n",
    "import pandas as pd\n",
    "from ethereum import utils\n",
    "import os\n",
    "import time\n",
    "\n"
   ]
  },
  {
   "cell_type": "code",
   "execution_count": 2,
   "id": "c77b2571",
   "metadata": {},
   "outputs": [],
   "source": [
    "#this function creates the accPrivateKey and the accAddress for an ETH address\\\n",
    "#i have copied this code from some place on the internet myself.\n",
    "#dont know how random the addresses will be.\n",
    "#let me know if you have a good answer :)\n",
    "def createAddress():\n",
    "    privKey = utils.sha3(os.urandom(4096))\n",
    "    rawAddress = utils.privtoaddr(privKey)\n",
    "    accAddress = utils.checksum_encode(rawAddress)\n",
    "    accPrivateKey = utils.encode_hex(privKey)\n",
    "    return accPrivateKey, accAddress"
   ]
  },
  {
   "cell_type": "code",
   "execution_count": 3,
   "id": "e32120b1",
   "metadata": {},
   "outputs": [],
   "source": [
    "#this function returns a dataframe with the accPrivateKey and accAddress columns\n",
    "#input parameter is the number of accPrivateKey - accAddress pairs you want to generate \n",
    "#input parameter will determine the rows in the dataframe\n",
    "def final_output(var_address_count = 5):\n",
    "    var_list = []\n",
    "    public_address = []\n",
    "    private_key = []\n",
    "    \n",
    "    for i in range(var_address_count):\n",
    "        var_list.append(createAddress()) \n",
    "        \n",
    "    for i in range(var_address_count):\n",
    "        public_address.append(var_list[i][1])\n",
    "        private_key.append(var_list[i][0])        \n",
    "    \n",
    "    return pd.DataFrame({'public_address':public_address,'private_key':private_key})"
   ]
  },
  {
   "cell_type": "code",
   "execution_count": 4,
   "id": "89c0d18a",
   "metadata": {
    "scrolled": false
   },
   "outputs": [
    {
     "name": "stdout",
     "output_type": "stream",
     "text": [
      "                               public_address  \\\n",
      "0  0xBEcF237817054308Db710a9EccC45B0e84732898   \n",
      "1  0xfd0CDcB5B7c0a3c2127b38F643eeec27D955aaCB   \n",
      "2  0xB85a325085e5aD72C290afE0419aC1047d4289eF   \n",
      "3  0x37c4b07BaF39298900243a94746a8DBA238cA5B4   \n",
      "4  0xDe61A3E68d6bc4A26ad41Ca1A6202Cb1bEdA1E78   \n",
      "5  0x55D8d002ff1806eC0eAFFe38752A3104194d15bD   \n",
      "6  0x8AfB587F0Ab2E9039B01D251217a0C00758E9e32   \n",
      "\n",
      "                                         private_key  \n",
      "0  a23a8c96dedd7f037afdb8a6d2c0dff223554f5d4dc3e2...  \n",
      "1  fe61dcf7311edd1386ca864e10927af34bf381cbf2bf0f...  \n",
      "2  02ddd81de9f14f4e8c5ea15e33f02260f1267fc8c397bd...  \n",
      "3  1ec5140d68be66130439d7d65522c2d0ca64da1cdc8a4b...  \n",
      "4  a0c80cbb450141fd223bebd315c05177212701fd4881e4...  \n",
      "5  e8049e6b1bb71ff8c5d8bc1a7fce9e51303b47bcf7d2e4...  \n",
      "6  badc6f774ba7d4116c4ca04223d2d5c5772a868cdfe99a...  \n"
     ]
    }
   ],
   "source": [
    "#calling the functions\n",
    "df = final_output(7)\n",
    "print(df)\n",
    "#use this to export the data to a csv for further consumtion.\n",
    "#change the path as per your needs.\n",
    "#df.to_csv(r'/Users/deepanjalgupta/Desktop/'+str(time.strftime(\"%Y_%m_%d___%H_%M_%S\"))+'.csv', header='true')"
   ]
  },
  {
   "cell_type": "code",
   "execution_count": null,
   "id": "23d722f8",
   "metadata": {},
   "outputs": [],
   "source": []
  }
 ],
 "metadata": {
  "kernelspec": {
   "display_name": "Python 3",
   "language": "python",
   "name": "python3"
  },
  "language_info": {
   "codemirror_mode": {
    "name": "ipython",
    "version": 3
   },
   "file_extension": ".py",
   "mimetype": "text/x-python",
   "name": "python",
   "nbconvert_exporter": "python",
   "pygments_lexer": "ipython3",
   "version": "3.8.8"
  }
 },
 "nbformat": 4,
 "nbformat_minor": 5
}
